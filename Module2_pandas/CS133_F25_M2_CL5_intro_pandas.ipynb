{
  "cells": [
    {
      "cell_type": "markdown",
      "metadata": {
        "id": "XJ1mwR5usgHb"
      },
      "source": [
        "## **Working with Python DataFrame**\n",
        "\n",
        "### **Learning outcome:**\n",
        "- To learn to examine tabular raw data with a pandas dataframe\n",
        "- To learn to filter data from a dataframe using index- or label-based selection.\n",
        "\n",
        "\n",
        "####  **Crime Rates Dataset**\n",
        "##### Load the dataset via a URL"
      ]
    },
    {
      "cell_type": "code",
      "execution_count": null,
      "metadata": {
        "id": "kQ8FudMKsgHd"
      },
      "outputs": [],
      "source": [
        "# Importing libraries\n",
        "import pandas as pd\n",
        "pd.options.display.float_format = \"{:,.2f}\".format"
      ]
    },
    {
      "cell_type": "code",
      "execution_count": null,
      "metadata": {
        "id": "QL2iXjmasgHf"
      },
      "outputs": [],
      "source": [
        "# Read in data set and converting it to a pandas dataframe\n",
        "crime_rates = pd.read_csv('https://raw.githubusercontent.com/csbfx/advpy122-data/master/crime_rates.csv')"
      ]
    },
    {
      "cell_type": "code",
      "execution_count": 1,
      "metadata": {
        "id": "I6ZDTAt9sgHg"
      },
      "outputs": [],
      "source": [
        "# Let's take a look at the dataframe using head()\n",
        "crime_rates.head()"
      ]
    },
    {
      "cell_type": "code",
      "execution_count": 2,
      "metadata": {
        "id": "y0MALWLvsgHh"
      },
      "outputs": [],
      "source": [
        "### Summary of DataFrame\n",
        "crime_rates.info()"
      ]
    },
    {
      "cell_type": "code",
      "source": [
        "### Descriptive statistics for numerical columns\n",
        "crime_rates.describe()"
      ],
      "metadata": {
        "id": "--yOe2fKaHgh"
      },
      "execution_count": 3,
      "outputs": []
    },
    {
      "cell_type": "code",
      "execution_count": null,
      "metadata": {
        "id": "MXIu_ZPmsgHi"
      },
      "outputs": [],
      "source": [
        "### Customize the dataframe using our column names\n",
        "crime_rates.columns = ['state', 'year', 'pop', 'violent', 'murder',\n",
        "                       'rape', 'robbery', 'assault', 'property',\n",
        "                       'burglary', 'larceny','vehicle']\n",
        "\n",
        "## There is another way to do this where you can assign the column name to a list first. See if you can try both ways."
      ]
    },
    {
      "cell_type": "markdown",
      "metadata": {
        "id": "-xSZ68wesgHj"
      },
      "source": [
        "## Data manipulation and analysis\n",
        "You can select rows with sepcific column value that you specify"
      ]
    },
    {
      "cell_type": "code",
      "execution_count": 5,
      "metadata": {
        "id": "XSB-FG7isgHk"
      },
      "outputs": [],
      "source": [
        "alaska_crimes = crime_rates[crime_rates['state']=='Alaska']\n",
        "alaska_crimes.head()"
      ]
    },
    {
      "cell_type": "markdown",
      "metadata": {
        "id": "yC0_J935sgHk"
      },
      "source": [
        "#Index operator and attribute selection\n",
        "## Index-based selection\n",
        "Pandas has its own indexing operators, `iloc` and `loc`.\n",
        "- `.iloc[ ]`: index-based selection that selects data based on its numerical position in the data\n",
        "- `.loc[ ]`: primarily label based\n",
        "\n",
        "&nbsp;  \n",
        "**Indexing in pandas**  \n",
        "- [start:stop:skip] #stop is exclusive [1:3] --> index 1 & 2  \n",
        "- [1::2, :] #from the 2nd row all the way to the end every other row, and all the columns  \n",
        "- [:, :3] #all rows, from the beginning to the 3rd column (0, 1, 2)"
      ]
    },
    {
      "cell_type": "code",
      "source": [
        "crime_rates.iloc[0] #select first row"
      ],
      "metadata": {
        "id": "7n17a1oucRlB"
      },
      "execution_count": 6,
      "outputs": []
    },
    {
      "cell_type": "code",
      "source": [
        "crime_rates.iloc[:, 0] #all rows, first column"
      ],
      "metadata": {
        "id": "LOGOg_fleI4Z"
      },
      "execution_count": 7,
      "outputs": []
    },
    {
      "cell_type": "markdown",
      "source": [
        "The `:` operator from native Python is equivalent to \"everything\". When combined with other selectors, however, it can be used to indicate a range of values. For example, to select the country column from just the first, second, and third row, we would do:"
      ],
      "metadata": {
        "id": "0FnCuJrNeg78"
      }
    },
    {
      "cell_type": "code",
      "source": [
        "# crime_rates.iloc[:3, 3:]"
      ],
      "metadata": {
        "id": "y_UWiftBefky"
      },
      "execution_count": 8,
      "outputs": []
    },
    {
      "cell_type": "markdown",
      "metadata": {
        "id": "Ufrn12I6sgHm"
      },
      "source": [
        "## Label-based selection\n",
        "`loc` operator is an attribute selection that is a label-based selection. The selection is based on the data index value, not its position."
      ]
    },
    {
      "cell_type": "code",
      "execution_count": 9,
      "metadata": {
        "id": "G5r7Wy7ZsgHm"
      },
      "outputs": [],
      "source": [
        "# crime_rates.loc[:, ['year', 'state', 'pop']]"
      ]
    },
    {
      "cell_type": "markdown",
      "metadata": {
        "id": "ot2Z0HgvsgHm"
      },
      "source": [
        "## Simple data analysis\n",
        "Let's take a look at the crime rates in Alaska throughout the years."
      ]
    },
    {
      "cell_type": "code",
      "execution_count": 10,
      "metadata": {
        "scrolled": true,
        "id": "rsgdfqaEsgHn"
      },
      "outputs": [],
      "source": [
        "### Select crimes data for state of Alaska\n",
        "alaska_crimes = crime_rates[crime_rates['state']=='Alaska']\n",
        "\n",
        "### Set the year as the index of the DataFrame\n",
        "alaska_crimes_by_year = alaska_crimes.set_index('year')\n",
        "alaska_crimes_by_year.head()"
      ]
    },
    {
      "cell_type": "code",
      "execution_count": 11,
      "metadata": {
        "id": "cM1g8MGGsgHn"
      },
      "outputs": [],
      "source": [
        "### Use iloc to select all rows and all the columns about crime rates\n",
        "### Use plot.line() to create DataFrame (or Series) as lines\n",
        "lines = alaska_crimes_by_year.iloc[:,2:].plot.line(ylabel=\"Number of crime cases\", title=\"Crime cases in Alaska over the years\")"
      ]
    },
    {
      "cell_type": "markdown",
      "source": [
        "# Class Exercise\n",
        "In class we will break up into different groups and work together to come up with solutions to your assigned question. After your group have finalize their solution, add it to the class notebook below. Remember to include everyone's name under the exercise.  \n",
        "\n",
        "If you have questions or feedback for each other such as a different approach to the solution, create a new cell with your comments, questions, suggestion, code, etc... Let's work together to learn pandas."
      ],
      "metadata": {
        "id": "oRdAwoFJKuJt"
      }
    },
    {
      "cell_type": "markdown",
      "source": [
        "## **Class Exercise CL5.1**\n",
        "Filter the dataset for counts of robberies, bugarlies and murder cases in Alaska between the year of 1970 and 1979, inclusively. Which year had the highest number of crime cases for each of the three crime types?\n",
        "\n",
        "&nbsp;  \n",
        "**Here is your answer for CL5.1** (Create a code box below with your code)  \n",
        "Group members:   \n",
        "Final answer:"
      ],
      "metadata": {
        "id": "ZOJuB2LVB1JE"
      }
    },
    {
      "cell_type": "markdown",
      "source": [
        "## **Class Exercise CL5.2**\n",
        "Which state had the highest number of vehicle crimes cases for the year 1982.\n",
        "\n",
        "&nbsp;  \n",
        "**Here is your answer for CL5.2** (Create a code box below with your code)  \n",
        "Group members:   \n",
        "Final answer:"
      ],
      "metadata": {
        "id": "n3udlyECB4d0"
      }
    },
    {
      "cell_type": "markdown",
      "metadata": {
        "id": "7K0UHPQGsgHn"
      },
      "source": [
        "## **Class Exercise CL5.3**\n",
        "Create a line plot that display the number of crime cases for California for the year between 1980 and 2003, inclusively. For the line plot, the horizontal axis is year and vertical axis is the number of crime cases.  \n",
        "*Hint: Use `&` to combine two conditions*  \n",
        "see https://pandas.pydata.org/docs/reference/api/pandas.DataFrame.plot.line.html\n",
        "\n",
        "&nbsp;  \n",
        "**Here is your answer for CL5.3** (Create a code box below with your code to plot the line plot)  \n",
        "Group members:   "
      ]
    },
    {
      "cell_type": "markdown",
      "metadata": {
        "id": "gKvaJ9tYsgHn"
      },
      "source": [
        "## **Class Exercise CL5.4**\n",
        "Create a line plot that display the number of crime cases for Oregon between the year 1980 and 2000, inclusively. For the line plot, display the trend line to show only crimes cases under 1000 (where the number of crime cases is on the vertical axis) and the horizontal axis is year.  \n",
        "\n",
        "&nbsp;  \n",
        "### Here is your answer for CL5.4\n",
        "Create a code box below with your answer for the above exercise"
      ]
    },
    {
      "cell_type": "markdown",
      "metadata": {
        "id": "EBb5Dvv6sgHo"
      },
      "source": [
        "## **Class Exercise CL5.5**\n",
        "Create a line plot that display the number of crime cases for Colorado for all the years and excluding the data for burglary, larceny, and property.\n",
        "\n",
        "&nbsp;  \n",
        "### Here is your answer for CL5.5\n",
        "Create a code box below with your answer for the above exercise"
      ]
    },
    {
      "cell_type": "code",
      "source": [],
      "metadata": {
        "id": "Q-aH3-0tYZQ4"
      },
      "execution_count": null,
      "outputs": []
    }
  ],
  "metadata": {
    "kernelspec": {
      "display_name": "Python 3",
      "language": "python",
      "name": "python3"
    },
    "language_info": {
      "codemirror_mode": {
        "name": "ipython",
        "version": 3
      },
      "file_extension": ".py",
      "mimetype": "text/x-python",
      "name": "python",
      "nbconvert_exporter": "python",
      "pygments_lexer": "ipython3",
      "version": "3.7.6"
    },
    "colab": {
      "provenance": []
    }
  },
  "nbformat": 4,
  "nbformat_minor": 0
}