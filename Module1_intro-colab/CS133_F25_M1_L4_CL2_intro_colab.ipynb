{
  "cells": [
    {
      "cell_type": "markdown",
      "metadata": {
        "id": "2kRrD0RrXOOg"
      },
      "source": [
        "# Introduction to Colab\n",
        "In the previous notebook you learned some Markdown language. Now we are going to try out some Python code and make some plots using data we read from a url.\n",
        "\n",
        "Created by Jessica Huynh-Westfall; Adapted from Wendy Lee\n",
        "Last updated: August 12, 2025\n",
        "\n",
        "Learning outcome: Learning how to use Google Colab to write simple python code\n",
        "1. Creating simulated data\n",
        "2. Reading in data from URL\n",
        "3. Cumulative plots"
      ]
    },
    {
      "cell_type": "markdown",
      "metadata": {
        "id": "kpPlWcltXOOm"
      },
      "source": [
        "# Matplotlib. Plotting and creating simulated data within jupyter notebook\n",
        "Here we create a normal distribution probability density plot. First let's look at plotting a 2D line plot"
      ]
    },
    {
      "cell_type": "code",
      "source": [
        "'''iMagic 'inline' backend to include matplotlib graphs in notebook'''\n",
        "%matplotlib inline\n",
        "\n",
        "### Import matplotlib module\n",
        "import matplotlib.pyplot as plt\n",
        "\n",
        "### Data to create a 2D line plot\n",
        "x = [1, 2, 3, 4, 5]\n",
        "y = [2, 4, 6, 8, 10]\n",
        "\n",
        "plt.plot(x, y)\n",
        "# plt.show() #optional if using 'inline'"
      ],
      "metadata": {
        "id": "wJv8M59VUCsK"
      },
      "execution_count": 1,
      "outputs": []
    },
    {
      "cell_type": "code",
      "execution_count": 3,
      "metadata": {
        "id": "MaIMeNtmXOOm"
      },
      "outputs": [],
      "source": [
        "'''Normal distribution probability density plot'''\n",
        "### Import your libraries/packages\n",
        "import numpy as np\n",
        "import scipy.stats as stats\n",
        "\n",
        "### When using the 'inline' backend, your matplotlib graphs will be included in your notebook, next to the code.\n",
        "%matplotlib inline\n",
        "import matplotlib.pyplot as plots\n",
        "\n",
        "### Generate plotting data using probability density function to plot a normal continuous random distribution\n",
        "mu = 0 #mean\n",
        "std = 1 #variance\n",
        "x = np.linspace(start=-4, stop=4, num=100) #return 100 evenly spaced numbers over a specified interval (between -4 and 4)\n",
        "y = stats.norm.pdf(x, mu, std)\n",
        "# plt.plot(x, y)\n",
        "# plt.show()"
      ]
    },
    {
      "cell_type": "markdown",
      "metadata": {
        "id": "3aukTQQxXOOq"
      },
      "source": [
        "# Read in URL and do some analysis (cumulative plot)"
      ]
    },
    {
      "cell_type": "code",
      "execution_count": 6,
      "metadata": {
        "id": "uN_VfLczXOOq"
      },
      "outputs": [],
      "source": [
        "'''Read in input data from url'''\n",
        "### Import your libraries/packages\n",
        "# !pip install datascience\n",
        "from datascience import *\n",
        "import warnings\n",
        "warnings.filterwarnings(\"ignore\", category=DeprecationWarning)\n",
        "from urllib.request import urlopen\n",
        "import re\n",
        "\n",
        "### Write a function to take in url, read it and return data\n",
        "def read_url(url):\n",
        "    return re.sub('\\\\s+', ' ', urlopen(url).read().decode())\n",
        "\n",
        "\n",
        "### Let's quickly read the book and count number of instances of characters\n",
        "huck_finn_url = 'https://www.inferentialthinking.com/data/huck_finn.txt'\n",
        "huck_finn_text = read_url(huck_finn_url)\n",
        "huck_finn_chapters = huck_finn_text.split('CHAPTER ')[44:] #there are 44 instance of 44 before the first chapter\n",
        "\n",
        "### Display the chapters of Huckleberry Finn in a table.\n",
        "Table().with_column('Chapters', huck_finn_chapters)\n",
        "# print(\"Number of occurences of Tom per chapter \", np.char.count(huck_finn_chapters, 'Tom')) #count the number of occurences of 'Tom' in each chapter\n",
        "\n",
        "### Create a table with the counts of three names for each chapter: 'Tom', 'Jim', and 'Huck'.\n",
        "counts = Table().with_columns([\n",
        "    'Tom', np.char.count(huck_finn_chapters, 'Tom'),\n",
        "    'Jim', np.char.count(huck_finn_chapters, 'Jim'),\n",
        "    'Huck', np.char.count(huck_finn_chapters, 'Huck'),\n",
        "])\n",
        "\n",
        "### Call the count table\n",
        "# counts"
      ]
    },
    {
      "cell_type": "code",
      "execution_count": 7,
      "metadata": {
        "id": "ZRq_cnN5XOOt"
      },
      "outputs": [],
      "source": [
        "'''Plot the cumulative counts for 43 chapters:'''\n",
        "### A cumulative count plot will ask how many times in Chapter 1, then how many times in Chapter 1 and 2, and so on.\n",
        "## Table method references: https://www.data8.org/datascience/tables.html\n",
        "\n",
        "%matplotlib inline\n",
        "\n",
        "### Create a new table and add the chapter numbers\n",
        "cum_counts = Table().with_column('Chapter', np.arange(1, 44, 1))\n",
        "\n",
        "### For loop use to iterate over the character names\n",
        "for character_name in counts.labels:\n",
        "  ## Add a column to the new table with each character's cumulative appearances\n",
        "  cum_counts = cum_counts.with_column(\n",
        "    character_name, counts.column(character_name).cumsum())\n",
        "\n",
        "### Plot and add a title to the plot. Chapter numbers are on the x-axis\n",
        "# cum_counts.plot(column_for_xticks=0)\n",
        "# plt.show()"
      ]
    },
    {
      "cell_type": "markdown",
      "metadata": {
        "id": "HzPA9UC8XOOv"
      },
      "source": [
        "## **Class Exercise CL2.1**\n",
        "Now it is your turn. Try to do some word counting from the chapters in \"The Little Women\".  \n",
        "\n",
        "*   Do the same thing as the above example for these 5 names: 'Amy', 'Beth', 'Jo', 'Laurie', 'Meg'.\n",
        "\n",
        "*   Add a meaningful title and axes label to your plot"
      ]
    },
    {
      "cell_type": "code",
      "execution_count": null,
      "metadata": {
        "id": "ZpwFtxZqXOOw"
      },
      "outputs": [],
      "source": [
        "'''Count character names in \"The Little Women\"'''\n",
        "### url to \"The Little Women\" text\n",
        "little_women_url = 'https://www.inferentialthinking.com/data/little_women.txt'\n",
        "little_women_text = read_url(little_women_url)\n",
        "little_women_chapters = little_women_text.split('CHAPTER ')[1:]\n",
        "\n",
        "# Plot the cumulative counts for the 47 chapters\n",
        "\n",
        "# Your code here"
      ]
    }
  ],
  "metadata": {
    "colab": {
      "provenance": []
    },
    "kernelspec": {
      "display_name": "Python 3",
      "language": "python",
      "name": "python3"
    },
    "language_info": {
      "codemirror_mode": {
        "name": "ipython",
        "version": 3
      },
      "file_extension": ".py",
      "mimetype": "text/x-python",
      "name": "python",
      "nbconvert_exporter": "python",
      "pygments_lexer": "ipython3",
      "version": "3.7.6"
    }
  },
  "nbformat": 4,
  "nbformat_minor": 0
}